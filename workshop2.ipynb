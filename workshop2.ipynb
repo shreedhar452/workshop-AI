{
 "cells": [
  {
   "cell_type": "code",
   "execution_count": 1,
   "id": "602dd5d2-70d9-4532-9508-ed1c51383111",
   "metadata": {},
   "outputs": [
    {
     "name": "stdout",
     "output_type": "stream",
     "text": [
      "Requirement already satisfied: numpy in c:\\users\\user\\appdata\\local\\programs\\python\\python312\\lib\\site-packages (2.2.2)\n",
      "Note: you may need to restart the kernel to use updated packages.\n"
     ]
    },
    {
     "name": "stderr",
     "output_type": "stream",
     "text": [
      "\n",
      "[notice] A new release of pip is available: 24.3.1 -> 25.0.1\n",
      "[notice] To update, run: python.exe -m pip install --upgrade pip\n"
     ]
    }
   ],
   "source": [
    "pip install numpy"
   ]
  },
  {
   "cell_type": "code",
   "execution_count": 2,
   "id": "ae422d94-e09b-485f-a97c-70a7de55af62",
   "metadata": {},
   "outputs": [
    {
     "name": "stdout",
     "output_type": "stream",
     "text": [
      "Requirement already satisfied: pandas in c:\\users\\user\\appdata\\local\\programs\\python\\python312\\lib\\site-packages (2.2.3)\n",
      "Requirement already satisfied: numpy>=1.26.0 in c:\\users\\user\\appdata\\local\\programs\\python\\python312\\lib\\site-packages (from pandas) (2.2.2)\n",
      "Requirement already satisfied: python-dateutil>=2.8.2 in c:\\users\\user\\appdata\\local\\programs\\python\\python312\\lib\\site-packages (from pandas) (2.9.0.post0)\n",
      "Requirement already satisfied: pytz>=2020.1 in c:\\users\\user\\appdata\\local\\programs\\python\\python312\\lib\\site-packages (from pandas) (2025.1)\n",
      "Requirement already satisfied: tzdata>=2022.7 in c:\\users\\user\\appdata\\local\\programs\\python\\python312\\lib\\site-packages (from pandas) (2025.1)\n",
      "Requirement already satisfied: six>=1.5 in c:\\users\\user\\appdata\\local\\programs\\python\\python312\\lib\\site-packages (from python-dateutil>=2.8.2->pandas) (1.17.0)\n",
      "Note: you may need to restart the kernel to use updated packages.\n"
     ]
    },
    {
     "name": "stderr",
     "output_type": "stream",
     "text": [
      "\n",
      "[notice] A new release of pip is available: 24.3.1 -> 25.0.1\n",
      "[notice] To update, run: python.exe -m pip install --upgrade pip\n"
     ]
    }
   ],
   "source": [
    "pip install pandas"
   ]
  },
  {
   "cell_type": "code",
   "execution_count": 5,
   "id": "adb080e9-b8ac-4192-af38-ebdbcc2924b2",
   "metadata": {},
   "outputs": [],
   "source": [
    "import pandas as pd\n",
    "\n",
    "renewable_sources=[\"Solar\",\"Wind\",\"Hydropower\",\"Geothermal\",\"Biomass\"]\n",
    "\n",
    "data={\n",
    "    \"Project\":[\"Solar Farm A\",\"Wind Turbine X\",\"Hydropower Y\",\"Solar Roof Z\",\"Geothermal Plant P\"],\n",
    "      \"Technology\":[\"Solar\",\"Wind\",\"Hydropower\",\"Solar\",\"Geothermal\"],\n",
    "      \"Capacity(MW)\":[150,300,200,50,100],\n",
    "      \"Cost(Million $)\":[200,400,350,100,250],\n",
    "      \"Location\":[\"California\",\"Texas\",\"Washington\",\"Nevada\",\"Idaho\"],\n",
    "      \"Completion Year\":[2023,2024,2022,2025,2023]\n",
    "}"
   ]
  },
  {
   "cell_type": "code",
   "execution_count": 10,
   "id": "365298fa-3d97-4c93-a799-8ad827242612",
   "metadata": {},
   "outputs": [
    {
     "name": "stdout",
     "output_type": "stream",
     "text": [
      "renewable energy source:\n",
      "0         Solar\n",
      "1          Wind\n",
      "2    Hydropower\n",
      "3    Geothermal\n",
      "4       Biomass\n",
      "dtype: object\n"
     ]
    }
   ],
   "source": [
    "renewable_series = pd.Series(renewable_sources)\n",
    "print(\"renewable energy source:\")\n",
    "print(renewable_series)"
   ]
  },
  {
   "cell_type": "code",
   "execution_count": null,
   "id": "08abf3c5-40ae-4a7a-8b09-5e42728a134c",
   "metadata": {},
   "outputs": [],
   "source": []
  },
  {
   "cell_type": "code",
   "execution_count": 12,
   "id": "55f105df-6a2c-4a4e-a12f-388e19939606",
   "metadata": {},
   "outputs": [
    {
     "name": "stdout",
     "output_type": "stream",
     "text": [
      "\n",
      "Green Technology Projects DataFrame:\n",
      "              Project  Technology  Capacity(MW)  Cost(Million $)    Location  \\\n",
      "0        Solar Farm A       Solar           150              200  California   \n",
      "1      Wind Turbine X        Wind           300              400       Texas   \n",
      "2        Hydropower Y  Hydropower           200              350  Washington   \n",
      "3        Solar Roof Z       Solar            50              100      Nevada   \n",
      "4  Geothermal Plant P  Geothermal           100              250       Idaho   \n",
      "\n",
      "   Completion Year  \n",
      "0             2023  \n",
      "1             2024  \n",
      "2             2022  \n",
      "3             2025  \n",
      "4             2023  \n"
     ]
    }
   ],
   "source": [
    "projects_df = pd.DataFrame(data)\n",
    "print(\"\\nGreen Technology Projects DataFrame:\")\n",
    "print(projects_df)"
   ]
  },
  {
   "cell_type": "code",
   "execution_count": 14,
   "id": "40e33a8a-588e-4cc6-8422-c56ab214aba5",
   "metadata": {},
   "outputs": [
    {
     "name": "stdout",
     "output_type": "stream",
     "text": [
      "\n",
      "List of Projects:\n",
      "0          Solar Farm A\n",
      "1        Wind Turbine X\n",
      "2          Hydropower Y\n",
      "3          Solar Roof Z\n",
      "4    Geothermal Plant P\n",
      "Name: Project, dtype: object\n"
     ]
    }
   ],
   "source": [
    "print(\"\\nList of Projects:\")\n",
    "print(projects_df[\"Project\"])"
   ]
  },
  {
   "cell_type": "code",
   "execution_count": 15,
   "id": "9f565af4-10f1-4edd-9a53-9cde70a14740",
   "metadata": {},
   "outputs": [
    {
     "name": "stdout",
     "output_type": "stream",
     "text": [
      "\n",
      "Projects with capacity greater than 100 MW:\n",
      "          Project  Technology  Capacity(MW)  Cost(Million $)    Location  \\\n",
      "0    Solar Farm A       Solar           150              200  California   \n",
      "1  Wind Turbine X        Wind           300              400       Texas   \n",
      "2    Hydropower Y  Hydropower           200              350  Washington   \n",
      "\n",
      "   Completion Year  \n",
      "0             2023  \n",
      "1             2024  \n",
      "2             2022  \n"
     ]
    }
   ],
   "source": [
    "high_capacity_projects = projects_df[projects_df[\"Capacity(MW)\"] > 100]\n",
    "print(\"\\nProjects with capacity greater than 100 MW:\")\n",
    "print(high_capacity_projects)"
   ]
  },
  {
   "cell_type": "code",
   "execution_count": 22,
   "id": "f0934736-a32d-4e42-8449-f8491cbeea4c",
   "metadata": {},
   "outputs": [
    {
     "name": "stdout",
     "output_type": "stream",
     "text": [
      "\n",
      "DataFrame with cost per MW:\n",
      "              Project  Technology  Capacity(MW)  Cost(Million $)    Location  \\\n",
      "0        Solar Farm A       Solar           150              200  California   \n",
      "1      Wind Turbine X        Wind           300              400       Texas   \n",
      "2        Hydropower Y  Hydropower           200              350  Washington   \n",
      "3        Solar Roof Z       Solar            50              100      Nevada   \n",
      "4  Geothermal Plant P  Geothermal           100              250       Idaho   \n",
      "\n",
      "   Completion Year  Cost per MW  \n",
      "0             2023     1.333333  \n",
      "1             2024     1.333333  \n",
      "2             2022     1.750000  \n",
      "3             2025     2.000000  \n",
      "4             2023     2.500000  \n"
     ]
    }
   ],
   "source": [
    "projects_df[\"Cost per MW\"]=projects_df[\"Cost(Million $)\"]/projects_df[\"Capacity(MW)\"]\n",
    "print(\"\\nDataFrame with cost per MW:\")\n",
    "print(projects_df)"
   ]
  },
  {
   "cell_type": "code",
   "execution_count": null,
   "id": "dcab6216-6812-4403-9dcc-334437324216",
   "metadata": {},
   "outputs": [],
   "source": [
    "total_capacity=projects_df['capacity(MW)'].sum()total_cost=projects_df['cost("
   ]
  }
 ],
 "metadata": {
  "kernelspec": {
   "display_name": "Python 3 (ipykernel)",
   "language": "python",
   "name": "python3"
  },
  "language_info": {
   "codemirror_mode": {
    "name": "ipython",
    "version": 3
   },
   "file_extension": ".py",
   "mimetype": "text/x-python",
   "name": "python",
   "nbconvert_exporter": "python",
   "pygments_lexer": "ipython3",
   "version": "3.12.8"
  }
 },
 "nbformat": 4,
 "nbformat_minor": 5
}
