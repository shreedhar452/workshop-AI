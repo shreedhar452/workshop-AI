{
 "cells": [
  {
   "cell_type": "code",
   "execution_count": 1,
   "id": "cd516869-7450-4008-8187-28ed9c54f2be",
   "metadata": {},
   "outputs": [
    {
     "name": "stdout",
     "output_type": "stream",
     "text": [
      "energy Consumption (in MWH) for Diffrent Renewable sources:\n",
      "[1200 1400 2900 1800 2500]\n"
     ]
    }
   ],
   "source": [
    "import numpy as np\n",
    "\n",
    "energy_consumption = np.array([1200,1400,2900,1800,2500])\n",
    "print(\"energy Consumption (in MWH) for Diffrent Renewable sources:\")\n",
    "print(energy_consumption)\n"
   ]
  },
  {
   "cell_type": "code",
   "execution_count": 2,
   "id": "48a103b7-1b0c-45c5-aef4-3f3a1a8ad707",
   "metadata": {},
   "outputs": [
    {
     "name": "stdout",
     "output_type": "stream",
     "text": [
      "\n",
      "Total energy consumption : 9800 MWH\n"
     ]
    }
   ],
   "source": [
    "total_consumption = np.sum(energy_consumption)\n",
    "\n",
    "print(f\"\\nTotal energy consumption : {total_consumption} MWH\")"
   ]
  },
  {
   "cell_type": "code",
   "execution_count": 5,
   "id": "978503eb-2419-460f-864c-28babf73e674",
   "metadata": {},
   "outputs": [
    {
     "name": "stdout",
     "output_type": "stream",
     "text": [
      "\n",
      "Total energy consumption : 1960.00 MWH\n"
     ]
    }
   ],
   "source": [
    "mean_consumption = np.mean(energy_consumption)\n",
    "\n",
    "print(f\"\\nTotal energy consumption : {mean_consumption:.2f} MWH\")"
   ]
  },
  {
   "cell_type": "code",
   "execution_count": 6,
   "id": "53d7ed09-9d61-41ea-b3ba-02059d09afc0",
   "metadata": {},
   "outputs": [
    {
     "name": "stdout",
     "output_type": "stream",
     "text": [
      "\n",
      "standard Deviation of Enegy Consumption:646.84 MWH\n"
     ]
    }
   ],
   "source": [
    "std_deviation=np.std(energy_consumption)\n",
    "\n",
    "print(f\"\\nstandard Deviation of Enegy Consumption:{std_deviation:.2f} MWH\")"
   ]
  },
  {
   "cell_type": "code",
   "execution_count": 7,
   "id": "01366076-af85-462d-a6fd-e900756018d5",
   "metadata": {},
   "outputs": [
    {
     "name": "stdout",
     "output_type": "stream",
     "text": [
      "\n",
      "Reshaped Energy Consumption Array(5x1):\n",
      "[[1200]\n",
      " [1400]\n",
      " [2900]\n",
      " [1800]\n",
      " [2500]]\n"
     ]
    }
   ],
   "source": [
    "reshaped_array=energy_consumption.reshape(5,1)\n",
    "\n",
    "print(\"\\nReshaped Energy Consumption Array(5x1):\")\n",
    "print(reshaped_array)"
   ]
  },
  {
   "cell_type": "code",
   "execution_count": null,
   "id": "d3857637-7207-4a4a-9807-eaf1d99bbe18",
   "metadata": {},
   "outputs": [],
   "source": []
  }
 ],
 "metadata": {
  "kernelspec": {
   "display_name": "Python 3 (ipykernel)",
   "language": "python",
   "name": "python3"
  },
  "language_info": {
   "codemirror_mode": {
    "name": "ipython",
    "version": 3
   },
   "file_extension": ".py",
   "mimetype": "text/x-python",
   "name": "python",
   "nbconvert_exporter": "python",
   "pygments_lexer": "ipython3",
   "version": "3.12.8"
  }
 },
 "nbformat": 4,
 "nbformat_minor": 5
}
